{
 "cells": [
  {
   "cell_type": "code",
   "execution_count": 1,
   "metadata": {},
   "outputs": [],
   "source": [
    "import numpy as np\n",
    "import pandas as pd\n",
    "import matplotlib.pyplot as plt\n",
    "import seaborn as sns\n",
    "from sklearn.preprocessing import OneHotEncoder, LabelEncoder\n",
    "from sklearn.model_selection import train_test_split, GridSearchCV\n",
    "from sklearn.metrics import mean_absolute_error\n",
    "from sklearn import metrics\n",
    "from sklearn.feature_selection import SelectKBest, f_classif, f_regression\n",
    "from sklearn.linear_model import LinearRegression, Ridge, Lasso\n",
    "from sklearn.ensemble import RandomForestRegressor\n",
    "from sklearn.tree import DecisionTreeRegressor\n",
    "from xgboost import XGBRegressor\n",
    "from scipy import stats\n",
    "%matplotlib inline"
   ]
  },
  {
   "cell_type": "code",
   "execution_count": 2,
   "metadata": {},
   "outputs": [],
   "source": [
    "df=pd.read_csv('train.csv', index_col=0)"
   ]
  },
  {
   "cell_type": "code",
   "execution_count": 3,
   "metadata": {},
   "outputs": [
    {
     "data": {
      "text/html": [
       "<div>\n",
       "<style scoped>\n",
       "    .dataframe tbody tr th:only-of-type {\n",
       "        vertical-align: middle;\n",
       "    }\n",
       "\n",
       "    .dataframe tbody tr th {\n",
       "        vertical-align: top;\n",
       "    }\n",
       "\n",
       "    .dataframe thead th {\n",
       "        text-align: right;\n",
       "    }\n",
       "</style>\n",
       "<table border=\"1\" class=\"dataframe\">\n",
       "  <thead>\n",
       "    <tr style=\"text-align: right;\">\n",
       "      <th></th>\n",
       "      <th>cat1</th>\n",
       "      <th>cat2</th>\n",
       "      <th>cat3</th>\n",
       "      <th>cat4</th>\n",
       "      <th>cat5</th>\n",
       "      <th>cat6</th>\n",
       "      <th>cat7</th>\n",
       "      <th>cat8</th>\n",
       "      <th>cat9</th>\n",
       "      <th>cat10</th>\n",
       "      <th>...</th>\n",
       "      <th>cont6</th>\n",
       "      <th>cont7</th>\n",
       "      <th>cont8</th>\n",
       "      <th>cont9</th>\n",
       "      <th>cont10</th>\n",
       "      <th>cont11</th>\n",
       "      <th>cont12</th>\n",
       "      <th>cont13</th>\n",
       "      <th>cont14</th>\n",
       "      <th>loss</th>\n",
       "    </tr>\n",
       "    <tr>\n",
       "      <th>id</th>\n",
       "      <th></th>\n",
       "      <th></th>\n",
       "      <th></th>\n",
       "      <th></th>\n",
       "      <th></th>\n",
       "      <th></th>\n",
       "      <th></th>\n",
       "      <th></th>\n",
       "      <th></th>\n",
       "      <th></th>\n",
       "      <th></th>\n",
       "      <th></th>\n",
       "      <th></th>\n",
       "      <th></th>\n",
       "      <th></th>\n",
       "      <th></th>\n",
       "      <th></th>\n",
       "      <th></th>\n",
       "      <th></th>\n",
       "      <th></th>\n",
       "      <th></th>\n",
       "    </tr>\n",
       "  </thead>\n",
       "  <tbody>\n",
       "    <tr>\n",
       "      <th>1</th>\n",
       "      <td>A</td>\n",
       "      <td>B</td>\n",
       "      <td>A</td>\n",
       "      <td>B</td>\n",
       "      <td>A</td>\n",
       "      <td>A</td>\n",
       "      <td>A</td>\n",
       "      <td>A</td>\n",
       "      <td>B</td>\n",
       "      <td>A</td>\n",
       "      <td>...</td>\n",
       "      <td>0.718367</td>\n",
       "      <td>0.335060</td>\n",
       "      <td>0.30260</td>\n",
       "      <td>0.67135</td>\n",
       "      <td>0.83510</td>\n",
       "      <td>0.569745</td>\n",
       "      <td>0.594646</td>\n",
       "      <td>0.822493</td>\n",
       "      <td>0.714843</td>\n",
       "      <td>2213.18</td>\n",
       "    </tr>\n",
       "    <tr>\n",
       "      <th>2</th>\n",
       "      <td>A</td>\n",
       "      <td>B</td>\n",
       "      <td>A</td>\n",
       "      <td>A</td>\n",
       "      <td>A</td>\n",
       "      <td>A</td>\n",
       "      <td>A</td>\n",
       "      <td>A</td>\n",
       "      <td>B</td>\n",
       "      <td>B</td>\n",
       "      <td>...</td>\n",
       "      <td>0.438917</td>\n",
       "      <td>0.436585</td>\n",
       "      <td>0.60087</td>\n",
       "      <td>0.35127</td>\n",
       "      <td>0.43919</td>\n",
       "      <td>0.338312</td>\n",
       "      <td>0.366307</td>\n",
       "      <td>0.611431</td>\n",
       "      <td>0.304496</td>\n",
       "      <td>1283.60</td>\n",
       "    </tr>\n",
       "    <tr>\n",
       "      <th>5</th>\n",
       "      <td>A</td>\n",
       "      <td>B</td>\n",
       "      <td>A</td>\n",
       "      <td>A</td>\n",
       "      <td>B</td>\n",
       "      <td>A</td>\n",
       "      <td>A</td>\n",
       "      <td>A</td>\n",
       "      <td>B</td>\n",
       "      <td>B</td>\n",
       "      <td>...</td>\n",
       "      <td>0.289648</td>\n",
       "      <td>0.315545</td>\n",
       "      <td>0.27320</td>\n",
       "      <td>0.26076</td>\n",
       "      <td>0.32446</td>\n",
       "      <td>0.381398</td>\n",
       "      <td>0.373424</td>\n",
       "      <td>0.195709</td>\n",
       "      <td>0.774425</td>\n",
       "      <td>3005.09</td>\n",
       "    </tr>\n",
       "    <tr>\n",
       "      <th>10</th>\n",
       "      <td>B</td>\n",
       "      <td>B</td>\n",
       "      <td>A</td>\n",
       "      <td>B</td>\n",
       "      <td>A</td>\n",
       "      <td>A</td>\n",
       "      <td>A</td>\n",
       "      <td>A</td>\n",
       "      <td>B</td>\n",
       "      <td>A</td>\n",
       "      <td>...</td>\n",
       "      <td>0.440945</td>\n",
       "      <td>0.391128</td>\n",
       "      <td>0.31796</td>\n",
       "      <td>0.32128</td>\n",
       "      <td>0.44467</td>\n",
       "      <td>0.327915</td>\n",
       "      <td>0.321570</td>\n",
       "      <td>0.605077</td>\n",
       "      <td>0.602642</td>\n",
       "      <td>939.85</td>\n",
       "    </tr>\n",
       "    <tr>\n",
       "      <th>11</th>\n",
       "      <td>A</td>\n",
       "      <td>B</td>\n",
       "      <td>A</td>\n",
       "      <td>B</td>\n",
       "      <td>A</td>\n",
       "      <td>A</td>\n",
       "      <td>A</td>\n",
       "      <td>A</td>\n",
       "      <td>B</td>\n",
       "      <td>B</td>\n",
       "      <td>...</td>\n",
       "      <td>0.178193</td>\n",
       "      <td>0.247408</td>\n",
       "      <td>0.24564</td>\n",
       "      <td>0.22089</td>\n",
       "      <td>0.21230</td>\n",
       "      <td>0.204687</td>\n",
       "      <td>0.202213</td>\n",
       "      <td>0.246011</td>\n",
       "      <td>0.432606</td>\n",
       "      <td>2763.85</td>\n",
       "    </tr>\n",
       "  </tbody>\n",
       "</table>\n",
       "<p>5 rows × 131 columns</p>\n",
       "</div>"
      ],
      "text/plain": [
       "   cat1 cat2 cat3 cat4 cat5 cat6 cat7 cat8 cat9 cat10  ...     cont6  \\\n",
       "id                                                     ...             \n",
       "1     A    B    A    B    A    A    A    A    B     A  ...  0.718367   \n",
       "2     A    B    A    A    A    A    A    A    B     B  ...  0.438917   \n",
       "5     A    B    A    A    B    A    A    A    B     B  ...  0.289648   \n",
       "10    B    B    A    B    A    A    A    A    B     A  ...  0.440945   \n",
       "11    A    B    A    B    A    A    A    A    B     B  ...  0.178193   \n",
       "\n",
       "       cont7    cont8    cont9   cont10    cont11    cont12    cont13  \\\n",
       "id                                                                      \n",
       "1   0.335060  0.30260  0.67135  0.83510  0.569745  0.594646  0.822493   \n",
       "2   0.436585  0.60087  0.35127  0.43919  0.338312  0.366307  0.611431   \n",
       "5   0.315545  0.27320  0.26076  0.32446  0.381398  0.373424  0.195709   \n",
       "10  0.391128  0.31796  0.32128  0.44467  0.327915  0.321570  0.605077   \n",
       "11  0.247408  0.24564  0.22089  0.21230  0.204687  0.202213  0.246011   \n",
       "\n",
       "      cont14     loss  \n",
       "id                     \n",
       "1   0.714843  2213.18  \n",
       "2   0.304496  1283.60  \n",
       "5   0.774425  3005.09  \n",
       "10  0.602642   939.85  \n",
       "11  0.432606  2763.85  \n",
       "\n",
       "[5 rows x 131 columns]"
      ]
     },
     "execution_count": 3,
     "metadata": {},
     "output_type": "execute_result"
    }
   ],
   "source": [
    "df.head()"
   ]
  },
  {
   "cell_type": "code",
   "execution_count": 4,
   "metadata": {},
   "outputs": [
    {
     "name": "stdout",
     "output_type": "stream",
     "text": [
      "(188318, 131)\n"
     ]
    }
   ],
   "source": [
    "print(df.shape)"
   ]
  },
  {
   "cell_type": "code",
   "execution_count": 5,
   "metadata": {},
   "outputs": [
    {
     "data": {
      "text/plain": [
       "0"
      ]
     },
     "execution_count": 5,
     "metadata": {},
     "output_type": "execute_result"
    }
   ],
   "source": [
    "###Count missing values\n",
    "sum(df.isna().sum())"
   ]
  },
  {
   "cell_type": "code",
   "execution_count": 6,
   "metadata": {},
   "outputs": [
    {
     "data": {
      "text/html": [
       "<div>\n",
       "<style scoped>\n",
       "    .dataframe tbody tr th:only-of-type {\n",
       "        vertical-align: middle;\n",
       "    }\n",
       "\n",
       "    .dataframe tbody tr th {\n",
       "        vertical-align: top;\n",
       "    }\n",
       "\n",
       "    .dataframe thead th {\n",
       "        text-align: right;\n",
       "    }\n",
       "</style>\n",
       "<table border=\"1\" class=\"dataframe\">\n",
       "  <thead>\n",
       "    <tr style=\"text-align: right;\">\n",
       "      <th></th>\n",
       "      <th>cont1</th>\n",
       "      <th>cont2</th>\n",
       "      <th>cont3</th>\n",
       "      <th>cont4</th>\n",
       "      <th>cont5</th>\n",
       "      <th>cont6</th>\n",
       "      <th>cont7</th>\n",
       "      <th>cont8</th>\n",
       "      <th>cont9</th>\n",
       "      <th>cont10</th>\n",
       "      <th>cont11</th>\n",
       "      <th>cont12</th>\n",
       "      <th>cont13</th>\n",
       "      <th>cont14</th>\n",
       "      <th>loss</th>\n",
       "    </tr>\n",
       "  </thead>\n",
       "  <tbody>\n",
       "    <tr>\n",
       "      <th>count</th>\n",
       "      <td>188318.000000</td>\n",
       "      <td>188318.000000</td>\n",
       "      <td>188318.000000</td>\n",
       "      <td>188318.000000</td>\n",
       "      <td>188318.000000</td>\n",
       "      <td>188318.000000</td>\n",
       "      <td>188318.000000</td>\n",
       "      <td>188318.000000</td>\n",
       "      <td>188318.000000</td>\n",
       "      <td>188318.000000</td>\n",
       "      <td>188318.000000</td>\n",
       "      <td>188318.000000</td>\n",
       "      <td>188318.000000</td>\n",
       "      <td>188318.000000</td>\n",
       "      <td>188318.000000</td>\n",
       "    </tr>\n",
       "    <tr>\n",
       "      <th>mean</th>\n",
       "      <td>0.493861</td>\n",
       "      <td>0.507188</td>\n",
       "      <td>0.498918</td>\n",
       "      <td>0.491812</td>\n",
       "      <td>0.487428</td>\n",
       "      <td>0.490945</td>\n",
       "      <td>0.484970</td>\n",
       "      <td>0.486437</td>\n",
       "      <td>0.485506</td>\n",
       "      <td>0.498066</td>\n",
       "      <td>0.493511</td>\n",
       "      <td>0.493150</td>\n",
       "      <td>0.493138</td>\n",
       "      <td>0.495717</td>\n",
       "      <td>3037.337686</td>\n",
       "    </tr>\n",
       "    <tr>\n",
       "      <th>std</th>\n",
       "      <td>0.187640</td>\n",
       "      <td>0.207202</td>\n",
       "      <td>0.202105</td>\n",
       "      <td>0.211292</td>\n",
       "      <td>0.209027</td>\n",
       "      <td>0.205273</td>\n",
       "      <td>0.178450</td>\n",
       "      <td>0.199370</td>\n",
       "      <td>0.181660</td>\n",
       "      <td>0.185877</td>\n",
       "      <td>0.209737</td>\n",
       "      <td>0.209427</td>\n",
       "      <td>0.212777</td>\n",
       "      <td>0.222488</td>\n",
       "      <td>2904.086186</td>\n",
       "    </tr>\n",
       "    <tr>\n",
       "      <th>min</th>\n",
       "      <td>0.000016</td>\n",
       "      <td>0.001149</td>\n",
       "      <td>0.002634</td>\n",
       "      <td>0.176921</td>\n",
       "      <td>0.281143</td>\n",
       "      <td>0.012683</td>\n",
       "      <td>0.069503</td>\n",
       "      <td>0.236880</td>\n",
       "      <td>0.000080</td>\n",
       "      <td>0.000000</td>\n",
       "      <td>0.035321</td>\n",
       "      <td>0.036232</td>\n",
       "      <td>0.000228</td>\n",
       "      <td>0.179722</td>\n",
       "      <td>0.670000</td>\n",
       "    </tr>\n",
       "    <tr>\n",
       "      <th>25%</th>\n",
       "      <td>0.346090</td>\n",
       "      <td>0.358319</td>\n",
       "      <td>0.336963</td>\n",
       "      <td>0.327354</td>\n",
       "      <td>0.281143</td>\n",
       "      <td>0.336105</td>\n",
       "      <td>0.350175</td>\n",
       "      <td>0.312800</td>\n",
       "      <td>0.358970</td>\n",
       "      <td>0.364580</td>\n",
       "      <td>0.310961</td>\n",
       "      <td>0.311661</td>\n",
       "      <td>0.315758</td>\n",
       "      <td>0.294610</td>\n",
       "      <td>1204.460000</td>\n",
       "    </tr>\n",
       "    <tr>\n",
       "      <th>50%</th>\n",
       "      <td>0.475784</td>\n",
       "      <td>0.555782</td>\n",
       "      <td>0.527991</td>\n",
       "      <td>0.452887</td>\n",
       "      <td>0.422268</td>\n",
       "      <td>0.440945</td>\n",
       "      <td>0.438285</td>\n",
       "      <td>0.441060</td>\n",
       "      <td>0.441450</td>\n",
       "      <td>0.461190</td>\n",
       "      <td>0.457203</td>\n",
       "      <td>0.462286</td>\n",
       "      <td>0.363547</td>\n",
       "      <td>0.407403</td>\n",
       "      <td>2115.570000</td>\n",
       "    </tr>\n",
       "    <tr>\n",
       "      <th>75%</th>\n",
       "      <td>0.623912</td>\n",
       "      <td>0.681761</td>\n",
       "      <td>0.634224</td>\n",
       "      <td>0.652072</td>\n",
       "      <td>0.643315</td>\n",
       "      <td>0.655021</td>\n",
       "      <td>0.591045</td>\n",
       "      <td>0.623580</td>\n",
       "      <td>0.566820</td>\n",
       "      <td>0.614590</td>\n",
       "      <td>0.678924</td>\n",
       "      <td>0.675759</td>\n",
       "      <td>0.689974</td>\n",
       "      <td>0.724623</td>\n",
       "      <td>3864.045000</td>\n",
       "    </tr>\n",
       "    <tr>\n",
       "      <th>max</th>\n",
       "      <td>0.984975</td>\n",
       "      <td>0.862654</td>\n",
       "      <td>0.944251</td>\n",
       "      <td>0.954297</td>\n",
       "      <td>0.983674</td>\n",
       "      <td>0.997162</td>\n",
       "      <td>1.000000</td>\n",
       "      <td>0.980200</td>\n",
       "      <td>0.995400</td>\n",
       "      <td>0.994980</td>\n",
       "      <td>0.998742</td>\n",
       "      <td>0.998484</td>\n",
       "      <td>0.988494</td>\n",
       "      <td>0.844848</td>\n",
       "      <td>121012.250000</td>\n",
       "    </tr>\n",
       "  </tbody>\n",
       "</table>\n",
       "</div>"
      ],
      "text/plain": [
       "               cont1          cont2          cont3          cont4  \\\n",
       "count  188318.000000  188318.000000  188318.000000  188318.000000   \n",
       "mean        0.493861       0.507188       0.498918       0.491812   \n",
       "std         0.187640       0.207202       0.202105       0.211292   \n",
       "min         0.000016       0.001149       0.002634       0.176921   \n",
       "25%         0.346090       0.358319       0.336963       0.327354   \n",
       "50%         0.475784       0.555782       0.527991       0.452887   \n",
       "75%         0.623912       0.681761       0.634224       0.652072   \n",
       "max         0.984975       0.862654       0.944251       0.954297   \n",
       "\n",
       "               cont5          cont6          cont7          cont8  \\\n",
       "count  188318.000000  188318.000000  188318.000000  188318.000000   \n",
       "mean        0.487428       0.490945       0.484970       0.486437   \n",
       "std         0.209027       0.205273       0.178450       0.199370   \n",
       "min         0.281143       0.012683       0.069503       0.236880   \n",
       "25%         0.281143       0.336105       0.350175       0.312800   \n",
       "50%         0.422268       0.440945       0.438285       0.441060   \n",
       "75%         0.643315       0.655021       0.591045       0.623580   \n",
       "max         0.983674       0.997162       1.000000       0.980200   \n",
       "\n",
       "               cont9         cont10         cont11         cont12  \\\n",
       "count  188318.000000  188318.000000  188318.000000  188318.000000   \n",
       "mean        0.485506       0.498066       0.493511       0.493150   \n",
       "std         0.181660       0.185877       0.209737       0.209427   \n",
       "min         0.000080       0.000000       0.035321       0.036232   \n",
       "25%         0.358970       0.364580       0.310961       0.311661   \n",
       "50%         0.441450       0.461190       0.457203       0.462286   \n",
       "75%         0.566820       0.614590       0.678924       0.675759   \n",
       "max         0.995400       0.994980       0.998742       0.998484   \n",
       "\n",
       "              cont13         cont14           loss  \n",
       "count  188318.000000  188318.000000  188318.000000  \n",
       "mean        0.493138       0.495717    3037.337686  \n",
       "std         0.212777       0.222488    2904.086186  \n",
       "min         0.000228       0.179722       0.670000  \n",
       "25%         0.315758       0.294610    1204.460000  \n",
       "50%         0.363547       0.407403    2115.570000  \n",
       "75%         0.689974       0.724623    3864.045000  \n",
       "max         0.988494       0.844848  121012.250000  "
      ]
     },
     "execution_count": 6,
     "metadata": {},
     "output_type": "execute_result"
    }
   ],
   "source": [
    "df.describe()"
   ]
  },
  {
   "cell_type": "code",
   "execution_count": 7,
   "metadata": {},
   "outputs": [],
   "source": [
    "ca=df.iloc[:,:116]\n",
    "co=df.iloc[:,116:-1]\n",
    "target= np.log1p(df['loss'])"
   ]
  },
  {
   "cell_type": "code",
   "execution_count": 8,
   "metadata": {},
   "outputs": [
    {
     "data": {
      "text/plain": [
       "<matplotlib.axes._subplots.AxesSubplot at 0x23239798ac0>"
      ]
     },
     "execution_count": 8,
     "metadata": {},
     "output_type": "execute_result"
    },
    {
     "data": {
      "image/png": "[encoded data removed]",
      "text/plain": [
       "<Figure size 1080x360 with 1 Axes>"
      ]
     },
     "metadata": {
      "needs_background": "light"
     },
     "output_type": "display_data"
    }
   ],
   "source": [
    "plt.figure(figsize=(15,5))\n",
    "sns.boxplot(data=co)"
   ]
  },
  {
   "cell_type": "code",
   "execution_count": 9,
   "metadata": {},
   "outputs": [
    {
     "data": {
      "text/plain": [
       "Text(0.5, 0, 'log loss')"
      ]
     },
     "execution_count": 9,
     "metadata": {},
     "output_type": "execute_result"
    },
    {
     "data": {
      "image/png": "[encoded data removed]",
      "text/plain": [
       "<Figure size 432x288 with 2 Axes>"
      ]
     },
     "metadata": {
      "needs_background": "light"
     },
     "output_type": "display_data"
    }
   ],
   "source": [
    "plt.subplot(1,2,1)\n",
    "sns.distplot(df['loss'])\n",
    "plt.xlabel('loss')\n",
    "plt.subplot(1,2,2)\n",
    "sns.distplot(target)\n",
    "plt.xlabel('log loss')"
   ]
  },
  {
   "cell_type": "code",
   "execution_count": 10,
   "metadata": {},
   "outputs": [
    {
     "data": {
      "text/plain": [
       "<matplotlib.axes._subplots.AxesSubplot at 0x232337b6100>"
      ]
     },
     "execution_count": 10,
     "metadata": {},
     "output_type": "execute_result"
    },
    {
     "data": {
      "image/png": "[encoded data removed]",
      "text/plain": [
       "<Figure size 360x360 with 2 Axes>"
      ]
     },
     "metadata": {
      "needs_background": "light"
     },
     "output_type": "display_data"
    }
   ],
   "source": [
    "plt.figure(figsize=(5,5))\n",
    "sns.heatmap(pd.concat([co,target], axis=1).corr(),vmin=-1, vmax=1, center=0, cmap=sns.diverging_palette(20, 220, n=200), square=True)"
   ]
  },
  {
   "cell_type": "code",
   "execution_count": 11,
   "metadata": {},
   "outputs": [
    {
     "data": {
      "text/plain": [
       "Text(0, 0.5, 'cont12')"
      ]
     },
     "execution_count": 11,
     "metadata": {},
     "output_type": "execute_result"
    },
    {
     "data": {
      "image/png": "[encoded data removed]",
      "text/plain": [
       "<Figure size 1584x504 with 10 Axes>"
      ]
     },
     "metadata": {
      "needs_background": "light"
     },
     "output_type": "display_data"
    }
   ],
   "source": [
    "plt.figure(figsize=(22, 7))\n",
    "plt.subplot(2,5,1)\n",
    "plt.scatter(co.cont1, co.cont6)\n",
    "plt.xlabel('cont1')\n",
    "plt.ylabel('cont6')\n",
    "plt.subplot(2,5,2)\n",
    "plt.scatter(co.cont1, co.cont9)\n",
    "plt.xlabel('cont1')\n",
    "plt.ylabel('cont9')\n",
    "plt.subplot(2,5,3)\n",
    "plt.scatter(co.cont1, co.cont10)\n",
    "plt.xlabel('cont1')\n",
    "plt.ylabel('cont10')\n",
    "plt.subplot(2,5,4)\n",
    "plt.scatter(co.cont6, co.cont9)\n",
    "plt.xlabel('cont6')\n",
    "plt.ylabel('cont9')\n",
    "plt.subplot(2,5,5)\n",
    "plt.scatter(co.cont6, co.cont10)\n",
    "plt.xlabel('cont6')\n",
    "plt.ylabel('cont10')\n",
    "plt.subplot(2,5,6)\n",
    "plt.scatter(co.cont6, co.cont11)\n",
    "plt.xlabel('cont6')\n",
    "plt.ylabel('cont11')\n",
    "plt.subplot(2,5,7)\n",
    "plt.scatter(co.cont6, co.cont12)\n",
    "plt.xlabel('cont6')\n",
    "plt.ylabel('cont12')\n",
    "plt.subplot(2,5,8)\n",
    "plt.scatter(co.cont6, co.cont13)\n",
    "plt.xlabel('cont6')\n",
    "plt.ylabel('cont13')\n",
    "plt.subplot(2,5,9)\n",
    "plt.scatter(co.cont9, co.cont10)\n",
    "plt.xlabel('cont9')\n",
    "plt.ylabel('cont10')\n",
    "plt.subplot(2,5,10)\n",
    "plt.scatter(co.cont11, co.cont12)\n",
    "plt.xlabel('cont11')\n",
    "plt.ylabel('cont12')"
   ]
  },
  {
   "cell_type": "code",
   "execution_count": 12,
   "metadata": {},
   "outputs": [
    {
     "data": {
      "image/png": "[encoded data removed]",
      "text/plain": [
       "<Figure size 1584x792 with 14 Axes>"
      ]
     },
     "metadata": {
      "needs_background": "light"
     },
     "output_type": "display_data"
    }
   ],
   "source": [
    "plt.figure(figsize=(22, 11))\n",
    "plot=1\n",
    "for i in co:\n",
    "    plt.subplot(3,5,plot)\n",
    "    plt.scatter(co[i],target)\n",
    "    plt.xlabel(i)\n",
    "    plt.ylabel('loss')\n",
    "    plot=plot+1"
   ]
  },
  {
   "cell_type": "code",
   "execution_count": 13,
   "metadata": {},
   "outputs": [
    {
     "data": {
      "text/plain": [
       "33"
      ]
     },
     "execution_count": 13,
     "metadata": {},
     "output_type": "execute_result"
    }
   ],
   "source": [
    "len(pd.unique(co.cont2))"
   ]
  },
  {
   "cell_type": "code",
   "execution_count": 14,
   "metadata": {},
   "outputs": [],
   "source": [
    "onehot_encoder = OneHotEncoder(sparse=False)\n",
    "feature = onehot_encoder.fit_transform(ca)"
   ]
  },
  {
   "cell_type": "code",
   "execution_count": 15,
   "metadata": {},
   "outputs": [],
   "source": [
    "feature_names = onehot_encoder.get_feature_names(ca.columns)"
   ]
  },
  {
   "cell_type": "code",
   "execution_count": 16,
   "metadata": {},
   "outputs": [],
   "source": [
    "df_features=pd.DataFrame(feature, columns=feature_names, index=df.index)"
   ]
  },
  {
   "cell_type": "code",
   "execution_count": 17,
   "metadata": {},
   "outputs": [
    {
     "name": "stdout",
     "output_type": "stream",
     "text": [
      "    cat1_A  cat1_B  cat2_A  cat2_B  cat3_A  cat3_B  cat4_A  cat4_B  cat5_A  \\\n",
      "id                                                                           \n",
      "1      1.0     0.0     0.0     1.0     1.0     0.0     0.0     1.0     1.0   \n",
      "2      1.0     0.0     0.0     1.0     1.0     0.0     1.0     0.0     1.0   \n",
      "5      1.0     0.0     0.0     1.0     1.0     0.0     1.0     0.0     0.0   \n",
      "10     0.0     1.0     0.0     1.0     1.0     0.0     0.0     1.0     1.0   \n",
      "11     1.0     0.0     0.0     1.0     1.0     0.0     0.0     1.0     1.0   \n",
      "\n",
      "    cat5_B  ...  cat114_I  cat114_L  cat114_N  cat114_O  cat114_R  cat114_U  \\\n",
      "id          ...                                                               \n",
      "1      0.0  ...       0.0       0.0       0.0       0.0       0.0       0.0   \n",
      "2      0.0  ...       0.0       0.0       0.0       0.0       0.0       0.0   \n",
      "5      1.0  ...       0.0       0.0       0.0       0.0       0.0       0.0   \n",
      "10     0.0  ...       0.0       0.0       0.0       0.0       0.0       0.0   \n",
      "11     0.0  ...       0.0       0.0       0.0       0.0       0.0       0.0   \n",
      "\n",
      "    cat116_GU  cat116_HN  cat116_HX  cat116_LV  \n",
      "id                                              \n",
      "1         0.0        0.0        0.0        0.0  \n",
      "2         0.0        0.0        0.0        0.0  \n",
      "5         0.0        0.0        0.0        0.0  \n",
      "10        0.0        0.0        0.0        0.0  \n",
      "11        0.0        0.0        0.0        0.0  \n",
      "\n",
      "[5 rows x 250 columns]\n"
     ]
    }
   ],
   "source": [
    "fs = SelectKBest(score_func=f_regression, k=250)\n",
    "X_fs = fs.fit_transform(df_features,target)\n",
    "\n",
    "mask = fs.get_support() #list of booleans\n",
    "new_features = [] # The list of K best features\n",
    "\n",
    "for bool, feature in zip(mask, feature_names):\n",
    "    if bool:\n",
    "        new_features.append(feature)\n",
    "        \n",
    "df_fs= pd.DataFrame(X_fs, columns=new_features, index=df.index)\n",
    "print(df_fs.head())"
   ]
  },
  {
   "cell_type": "code",
   "execution_count": 18,
   "metadata": {},
   "outputs": [
    {
     "data": {
      "text/plain": [
       "(188318, 1154)"
      ]
     },
     "execution_count": 18,
     "metadata": {},
     "output_type": "execute_result"
    }
   ],
   "source": [
    "df_encoded = pd.concat([df_features,co, target], axis=1)\n",
    "df_encoded.shape"
   ]
  },
  {
   "cell_type": "code",
   "execution_count": 19,
   "metadata": {},
   "outputs": [
    {
     "data": {
      "text/plain": [
       "(188318, 265)"
      ]
     },
     "execution_count": 19,
     "metadata": {},
     "output_type": "execute_result"
    }
   ],
   "source": [
    "df_fs_encoded = pd.concat([df_fs,co, target], axis=1)\n",
    "df_fs_encoded.shape"
   ]
  },
  {
   "cell_type": "code",
   "execution_count": 20,
   "metadata": {},
   "outputs": [],
   "source": [
    "del df, ca, co, target, onehot_encoder, feature, feature_names, df_features, fs, X_fs, mask, new_features, df_fs"
   ]
  },
  {
   "cell_type": "code",
   "execution_count": 21,
   "metadata": {},
   "outputs": [],
   "source": [
    "X = df_encoded.iloc[:,:-1]\n",
    "y = df_encoded.iloc[:,-1]\n",
    "X_fs = df_fs_encoded.iloc[:,:-1]\n",
    "y_fs = df_fs_encoded.iloc[:,-1]\n",
    "del df_encoded\n",
    "del df_fs_encoded"
   ]
  },
  {
   "cell_type": "code",
   "execution_count": 22,
   "metadata": {},
   "outputs": [],
   "source": [
    "X_train, X_test, y_train, y_test = train_test_split(X, y, test_size=0.2, random_state=0)\n",
    "X_fs_train, X_fs_test, y_fs_train, y_fs_test = train_test_split(X_fs, y_fs, test_size=0.2, random_state=0)\n",
    "del X\n",
    "del y\n",
    "del X_fs\n",
    "del y_fs"
   ]
  },
  {
   "cell_type": "code",
   "execution_count": 23,
   "metadata": {},
   "outputs": [
    {
     "name": "stdout",
     "output_type": "stream",
     "text": [
      "DescribeResult(nobs=150654, minmax=(5.625, 11.509765625), mean=7.692482793250594, variance=0.3372955055057697, skewness=0.7813947708041693, kurtosis=0.6606261657117702)\n",
      "DescribeResult(nobs=37664, minmax=(-35815720799.61914, 47777738815.916016), mean=2174755.985832221, variance=1.452884502099615e+17, skewness=48.79624153023123, kurtosis=9811.028695428513)\n"
     ]
    }
   ],
   "source": [
    "#Linear Regression for all features\n",
    "\n",
    "regressor = LinearRegression(fit_intercept=True)  \n",
    "regressor.fit(X_train, y_train)\n",
    "result = regressor.predict(X_train)\n",
    "result2 = regressor.predict(X_test)\n",
    "\n",
    "from scipy import stats\n",
    "print(stats.describe(result))\n",
    "print(stats.describe(result2))"
   ]
  },
  {
   "cell_type": "code",
   "execution_count": 24,
   "metadata": {},
   "outputs": [
    {
     "name": "stdout",
     "output_type": "stream",
     "text": [
      "1232.280379342724\n"
     ]
    }
   ],
   "source": [
    "print(mean_absolute_error(np.expm1(y_train), np.expm1(result)))\n",
    "# Negative values in predicted result2, Linear Regression not a good model\n",
    "#print(mean_absolute_error(np.expm1(y_test), np.expm1(result2)))"
   ]
  },
  {
   "cell_type": "code",
   "execution_count": 25,
   "metadata": {},
   "outputs": [],
   "source": [
    "del regressor, result, result2"
   ]
  },
  {
   "cell_type": "code",
   "execution_count": 26,
   "metadata": {},
   "outputs": [
    {
     "name": "stdout",
     "output_type": "stream",
     "text": [
      "1236.5502922105543\n",
      "1258.9270631479556\n"
     ]
    }
   ],
   "source": [
    "#Ridge Regression from all features\n",
    "\n",
    "ridge = Ridge(random_state=0)  \n",
    "ridge.fit(X_train, y_train)\n",
    "result3 = ridge.predict(X_train)\n",
    "result4 = ridge.predict(X_test)\n",
    "\n",
    "print(mean_absolute_error(np.expm1(y_train), np.expm1(result3)))\n",
    "print(mean_absolute_error(np.expm1(y_test), np.expm1(result4)))"
   ]
  },
  {
   "cell_type": "code",
   "execution_count": 27,
   "metadata": {},
   "outputs": [],
   "source": [
    "del ridge, result3, result4"
   ]
  },
  {
   "cell_type": "code",
   "execution_count": 28,
   "metadata": {},
   "outputs": [
    {
     "name": "stdout",
     "output_type": "stream",
     "text": [
      "1810.3021493849994\n",
      "1807.9291827429138\n"
     ]
    }
   ],
   "source": [
    "#Lasso for all features\n",
    "\n",
    "lasso = Lasso(random_state=0)  \n",
    "lasso.fit(X_train, y_train)\n",
    "lasso_train = lasso.predict(X_train)\n",
    "lasso_test = lasso.predict(X_test)\n",
    "\n",
    "print(mean_absolute_error(np.expm1(y_train), np.expm1(lasso_train)))\n",
    "print(mean_absolute_error(np.expm1(y_test), np.expm1(lasso_test)))"
   ]
  },
  {
   "cell_type": "code",
   "execution_count": 29,
   "metadata": {},
   "outputs": [],
   "source": [
    "del lasso, lasso_train, lasso_test"
   ]
  },
  {
   "cell_type": "code",
   "execution_count": null,
   "metadata": {},
   "outputs": [],
   "source": [
    "#Decision Tree for all features\n",
    "\n",
    "dtr = DecisionTreeRegressor(max_depth=10,random_state=0)\n",
    "dtr.fit(X_train, y_train)\n",
    "result5 = dtr.predict(X_train)\n",
    "result6 = dtr.predict(X_test)\n",
    "\n",
    "print(mean_absolute_error(np.expm1(y_train), np.expm1(result5)))\n",
    "print(mean_absolute_error(np.expm1(y_test), np.expm1(result6)))"
   ]
  },
  {
   "cell_type": "code",
   "execution_count": null,
   "metadata": {},
   "outputs": [],
   "source": [
    "del dtr, result5, result6"
   ]
  },
  {
   "cell_type": "code",
   "execution_count": 32,
   "metadata": {},
   "outputs": [
    {
     "name": "stdout",
     "output_type": "stream",
     "text": [
      "491.6242208232324\n",
      "1209.4200893990442\n"
     ]
    }
   ],
   "source": [
    "#Random Forest with all features\n",
    "\n",
    "rfr = RandomForestRegressor(max_depth=200,random_state=0, n_jobs=6)\n",
    "rfr.fit(X_train, y_train)\n",
    "result7 = rfr.predict(X_train)\n",
    "result8 = rfr.predict(X_test)\n",
    "\n",
    "print(mean_absolute_error(np.expm1(y_train), np.expm1(result7)))\n",
    "print(mean_absolute_error(np.expm1(y_test), np.expm1(result8)))"
   ]
  },
  {
   "cell_type": "code",
   "execution_count": 33,
   "metadata": {},
   "outputs": [],
   "source": [
    "del rfr, result7, result8"
   ]
  },
  {
   "cell_type": "code",
   "execution_count": null,
   "metadata": {},
   "outputs": [],
   "source": [
    "#XGBoost with all features\n",
    "\n",
    "xgb = XGBRegressor(seed=0)\n",
    "xgb.fit(X_train, y_train)\n",
    "xgb_result1 = xgb.predict(X_train)\n",
    "xgb_result2 = xgb.predict(X_test)\n",
    "\n",
    "print(mean_absolute_error(np.expm1(y_train), np.expm1(xgb_result1)))\n",
    "print(mean_absolute_error(np.expm1(y_test), np.expm1(xgb_result2)))"
   ]
  },
  {
   "cell_type": "code",
   "execution_count": null,
   "metadata": {},
   "outputs": [],
   "source": [
    "del xgb, xgb_fs_result1, xgb_fs_result2"
   ]
  },
  {
   "cell_type": "code",
   "execution_count": null,
   "metadata": {},
   "outputs": [],
   "source": [
    "del X_train, X_test, y_train, y_test"
   ]
  },
  {
   "cell_type": "code",
   "execution_count": null,
   "metadata": {},
   "outputs": [],
   "source": []
  },
  {
   "cell_type": "code",
   "execution_count": 2,
   "metadata": {},
   "outputs": [],
   "source": [
    "df=pd.read_csv('train.csv', index_col=0)"
   ]
  },
  {
   "cell_type": "code",
   "execution_count": 3,
   "metadata": {},
   "outputs": [],
   "source": [
    "ca=df.iloc[:,:116]\n",
    "co=df.iloc[:,116:-1]\n",
    "target= np.log1p(df['loss'])"
   ]
  },
  {
   "cell_type": "code",
   "execution_count": 4,
   "metadata": {},
   "outputs": [],
   "source": [
    "ca2 = pd.concat([ca,co.cont2], axis=1)\n",
    "co2 = pd.concat([co.iloc[:,0], co.iloc[:,2:]], axis=1)\n",
    "\n",
    "del ca, co"
   ]
  },
  {
   "cell_type": "code",
   "execution_count": 5,
   "metadata": {
    "scrolled": true
   },
   "outputs": [
    {
     "name": "stdout",
     "output_type": "stream",
     "text": [
      "    cat1_A  cat1_B  cat2_A  cat2_B  cat3_A  cat3_B  cat4_A  cat4_B  cat5_A  \\\n",
      "id                                                                           \n",
      "1      1.0     0.0     0.0     1.0     1.0     0.0     0.0     1.0     1.0   \n",
      "2      1.0     0.0     0.0     1.0     1.0     0.0     1.0     0.0     1.0   \n",
      "5      1.0     0.0     0.0     1.0     1.0     0.0     1.0     0.0     0.0   \n",
      "10     0.0     1.0     0.0     1.0     1.0     0.0     0.0     1.0     1.0   \n",
      "11     1.0     0.0     0.0     1.0     1.0     0.0     0.0     1.0     1.0   \n",
      "\n",
      "    cat5_B  ...  cat103_D  cat103_E  cat103_F  cat111_A  cat111_G  cat111_I  \\\n",
      "id          ...                                                               \n",
      "1      0.0  ...       0.0       0.0       0.0       0.0       0.0       0.0   \n",
      "2      0.0  ...       0.0       0.0       0.0       1.0       0.0       0.0   \n",
      "5      1.0  ...       0.0       0.0       0.0       1.0       0.0       0.0   \n",
      "10     0.0  ...       0.0       0.0       0.0       0.0       0.0       0.0   \n",
      "11     0.0  ...       0.0       0.0       0.0       0.0       0.0       0.0   \n",
      "\n",
      "    cat111_K  cat114_A  cat114_C  cat114_E  \n",
      "id                                          \n",
      "1        0.0       1.0       0.0       0.0  \n",
      "2        0.0       1.0       0.0       0.0  \n",
      "5        0.0       1.0       0.0       0.0  \n",
      "10       0.0       1.0       0.0       0.0  \n",
      "11       0.0       1.0       0.0       0.0  \n",
      "\n",
      "[5 rows x 112 columns]\n"
     ]
    }
   ],
   "source": [
    "onehot_encoder = OneHotEncoder(sparse=False)\n",
    "feature = onehot_encoder.fit_transform(ca2)\n",
    "feature_names = onehot_encoder.get_feature_names(ca2.columns)\n",
    "df_features=pd.DataFrame(feature, columns=feature_names, index=df.index)\n",
    "\n",
    "fs = SelectKBest(score_func=f_regression, k=112)\n",
    "X_fs = fs.fit_transform(df_features,target)\n",
    "\n",
    "mask = fs.get_support() #list of booleans\n",
    "new_features = [] # The list of K best features\n",
    "\n",
    "for bool, feature in zip(mask, feature_names):\n",
    "    if bool:\n",
    "        new_features.append(feature)\n",
    "        \n",
    "df_fs= pd.DataFrame(X_fs, columns=new_features, index=df.index)\n",
    "print(df_fs.head())"
   ]
  },
  {
   "cell_type": "code",
   "execution_count": 6,
   "metadata": {},
   "outputs": [
    {
     "name": "stdout",
     "output_type": "stream",
     "text": [
      "(188318, 1186)\n",
      "(188318, 126)\n"
     ]
    }
   ],
   "source": [
    "df_encoded = pd.concat([df_features,co2, target], axis=1)\n",
    "print(df_encoded.shape)\n",
    "\n",
    "df_fs_encoded = pd.concat([df_fs,co2, target], axis=1)\n",
    "print(df_fs_encoded.shape)\n",
    "\n",
    "del df, ca2, co2, target, onehot_encoder, feature, feature_names, df_features, fs, X_fs, mask, new_features, df_fs"
   ]
  },
  {
   "cell_type": "code",
   "execution_count": 7,
   "metadata": {
    "scrolled": true
   },
   "outputs": [],
   "source": [
    "X = df_encoded.iloc[:,:-1]\n",
    "y = df_encoded.iloc[:,-1]\n",
    "X_fs = df_fs_encoded.iloc[:,:-1]\n",
    "y_fs = df_fs_encoded.iloc[:,-1]\n",
    "\n",
    "del df_encoded\n",
    "del df_fs_encoded\n",
    "\n",
    "X_train, X_test, y_train, y_test = train_test_split(X, y, test_size=0.2, random_state=0)\n",
    "X_fs_train, X_fs_test, y_fs_train, y_fs_test = train_test_split(X_fs, y_fs, test_size=0.2, random_state=0)\n",
    "del X\n",
    "del y\n",
    "del X_fs\n",
    "del y_fs"
   ]
  },
  {
   "cell_type": "code",
   "execution_count": 9,
   "metadata": {},
   "outputs": [
    {
     "name": "stdout",
     "output_type": "stream",
     "text": [
      "1087.2149013243866\n",
      "1175.85658554048\n"
     ]
    }
   ],
   "source": [
    "#XGBoost with all features\n",
    "\n",
    "xgb = XGBRegressor(seed=0)\n",
    "xgb.fit(X_train, y_train)\n",
    "xgb_result1 = xgb.predict(X_train)\n",
    "xgb_result2 = xgb.predict(X_test)\n",
    "\n",
    "print(mean_absolute_error(np.expm1(y_train), np.expm1(xgb_result1)))\n",
    "print(mean_absolute_error(np.expm1(y_test), np.expm1(xgb_result2)))"
   ]
  },
  {
   "cell_type": "code",
   "execution_count": 10,
   "metadata": {},
   "outputs": [
    {
     "name": "stdout",
     "output_type": "stream",
     "text": [
      "1094.717693106477\n",
      "1185.9212895100868\n"
     ]
    }
   ],
   "source": [
    "#XGBoost with select features\n",
    "\n",
    "xgb = XGBRegressor(seed=0)\n",
    "xgb.fit(X_fs_train, y_fs_train)\n",
    "xgb_fs_result1 = xgb.predict(X_fs_train)\n",
    "xgb_fs_result2 = xgb.predict(X_fs_test)\n",
    "\n",
    "\n",
    "print(mean_absolute_error(np.expm1(y_fs_train), np.expm1(xgb_fs_result1)))\n",
    "print(mean_absolute_error(np.expm1(y_fs_test), np.expm1(xgb_fs_result2)))"
   ]
  },
  {
   "cell_type": "code",
   "execution_count": null,
   "metadata": {},
   "outputs": [],
   "source": []
  },
  {
   "cell_type": "code",
   "execution_count": 63,
   "metadata": {},
   "outputs": [
    {
     "data": {
      "text/plain": [
       "GridSearchCV(cv=5,\n",
       "             estimator=XGBRegressor(base_score=None, booster=None,\n",
       "                                    colsample_bylevel=None,\n",
       "                                    colsample_bynode=None,\n",
       "                                    colsample_bytree=None, gamma=None,\n",
       "                                    gpu_id=None, importance_type='gain',\n",
       "                                    interaction_constraints=None,\n",
       "                                    learning_rate=None, max_delta_step=None,\n",
       "                                    max_depth=None, min_child_weight=None,\n",
       "                                    missing=nan, monotone_constraints=None,\n",
       "                                    n_estimators=100, n_jobs=None,\n",
       "                                    num_parallel_tree=None, random_state=None,\n",
       "                                    reg_alpha=None, reg_lambda=None,\n",
       "                                    scale_pos_weight=None, seed=0,\n",
       "                                    subsample=None, tree_method=None,\n",
       "                                    validate_parameters=None, verbosity=None),\n",
       "             param_grid={'alpha': [0, 0.2, 0.4], 'eta': [0.25, 0.3, 0.35],\n",
       "                         'gamma': [1, 2, 3], 'max_depth': [5, 6, 7]},\n",
       "             scoring='neg_mean_absolute_error')"
      ]
     },
     "execution_count": 63,
     "metadata": {},
     "output_type": "execute_result"
    }
   ],
   "source": [
    "#XGBoost with select features\n",
    "\n",
    "xgb = XGBRegressor(seed=0)\n",
    "params = {#'lamda': [.6,.8,1,1.2],\n",
    "          'alpha':[0,0.2,.4]\n",
    "          ,'max_depth': [5,6,7]\n",
    "         ,'gamma': [1,2,3]\n",
    "         ,'eta': [.25,.3,.35]\n",
    "          #,'min_child_weight': [0,.1,.2]\n",
    "          #'subsample': [1,.9,.8],\n",
    "          #'colsample_bytree': [1,.9,.8]    \n",
    "         }\n",
    "clf = GridSearchCV(xgb, params, scoring='neg_mean_absolute_error', cv = 5)\n",
    "clf.fit(X_fs_train, y_fs_train)"
   ]
  },
  {
   "cell_type": "code",
   "execution_count": 64,
   "metadata": {},
   "outputs": [
    {
     "name": "stdout",
     "output_type": "stream",
     "text": [
      "1099.129570997514\n",
      "1185.0239042456149\n"
     ]
    }
   ],
   "source": [
    "xgb_result1 = clf.predict(X_fs_train)\n",
    "xgb_result2 = clf.predict(X_fs_test)\n",
    "\n",
    "print(mean_absolute_error(np.expm1(y_fs_train), np.expm1(xgb_result1)))\n",
    "print(mean_absolute_error(np.expm1(y_fs_test), np.expm1(xgb_result2)))"
   ]
  },
  {
   "cell_type": "code",
   "execution_count": 65,
   "metadata": {},
   "outputs": [
    {
     "data": {
      "text/plain": [
       "{'mean_fit_time': array([5.66846399, 7.08383427, 8.16570497, 6.33047266, 7.63306284,\n",
       "        8.84743099, 6.0885519 , 7.37093844, 9.35218744, 6.38466196,\n",
       "        7.31539464, 9.49360094, 6.59179235, 7.71336346, 8.0986505 ,\n",
       "        5.90568528, 7.03101358, 7.99657493, 5.90331173, 7.25961571,\n",
       "        8.27545924, 6.11417522, 7.0690084 , 8.04770207, 6.01287141,\n",
       "        7.17109866, 8.20668387, 5.983672  , 7.08428473, 8.4998765 ,\n",
       "        6.13715034, 7.33495007, 8.44581614, 6.04785318, 7.10162168,\n",
       "        8.08814907, 6.05284009, 7.12410779, 8.34025407, 5.88163238,\n",
       "        7.06298723, 8.41467981, 6.34054432, 7.47122889, 8.62336001,\n",
       "        6.21529269, 7.03120313, 8.16336622, 5.93485537, 6.9764256 ,\n",
       "        8.06081705, 5.86108074, 6.95596828, 8.0262836 , 5.94652586,\n",
       "        7.05237379, 8.19284596, 5.92622967, 7.04198842, 8.12898712,\n",
       "        5.90955935, 6.96088653, 8.0627409 , 6.17410707, 7.05642886,\n",
       "        8.2259799 , 5.90920429, 7.09701519, 8.31226315, 5.92804523,\n",
       "        7.05930915, 8.39042845, 6.06966057, 7.10329771, 8.17185736,\n",
       "        5.95318265, 6.94385843, 7.99640946, 5.9372272 , 7.01387939,\n",
       "        8.01852331]),\n",
       " 'std_fit_time': array([0.57816139, 0.12882647, 0.05749575, 0.41087825, 0.58612789,\n",
       "        0.42488716, 0.21114005, 0.34350269, 0.40022933, 0.16168444,\n",
       "        0.14817314, 0.33119182, 0.1192084 , 0.79866633, 0.10956694,\n",
       "        0.10020945, 0.12319162, 0.07074487, 0.03001809, 0.24981547,\n",
       "        0.0969314 , 0.06594487, 0.14097734, 0.05767137, 0.08389383,\n",
       "        0.07125899, 0.19572396, 0.03573748, 0.02471091, 0.08819242,\n",
       "        0.11715336, 0.12786491, 0.14116673, 0.05253947, 0.05810341,\n",
       "        0.10067728, 0.03670138, 0.04863822, 0.1650517 , 0.08341848,\n",
       "        0.2252059 , 0.13926648, 0.22690127, 0.12519657, 0.18323593,\n",
       "        0.1790917 , 0.04786007, 0.01932955, 0.0280135 , 0.03102216,\n",
       "        0.08222899, 0.01671934, 0.09202326, 0.09273196, 0.01738858,\n",
       "        0.01750457, 0.03460773, 0.02417173, 0.07103949, 0.0502792 ,\n",
       "        0.03414861, 0.0393497 , 0.03624956, 0.4762883 , 0.09871466,\n",
       "        0.05933814, 0.01944431, 0.13055614, 0.13048132, 0.0263614 ,\n",
       "        0.07428979, 0.39957598, 0.10176658, 0.08705255, 0.03606861,\n",
       "        0.05375552, 0.05436985, 0.09370744, 0.10108409, 0.14227243,\n",
       "        0.07077601]),\n",
       " 'mean_score_time': array([0.12105145, 0.12826509, 0.13267202, 0.12869225, 0.12983742,\n",
       "        0.13615179, 0.12617021, 0.12432904, 0.13643079, 0.12807455,\n",
       "        0.12869258, 0.13848395, 0.1315011 , 0.12847371, 0.12835426,\n",
       "        0.12489295, 0.12413564, 0.12328858, 0.1256803 , 0.12836857,\n",
       "        0.13295202, 0.12466435, 0.12431502, 0.12827091, 0.12538753,\n",
       "        0.12161379, 0.12478561, 0.12642298, 0.12917218, 0.13795829,\n",
       "        0.12806282, 0.13356929, 0.12773533, 0.12496867, 0.12450228,\n",
       "        0.12672267, 0.12804046, 0.12538729, 0.13098388, 0.1257143 ,\n",
       "        0.13288207, 0.13035746, 0.12791405, 0.13220596, 0.12733512,\n",
       "        0.12721438, 0.12902503, 0.13276443, 0.12490125, 0.12545538,\n",
       "        0.12545424, 0.1231832 , 0.12335277, 0.12523365, 0.12540369,\n",
       "        0.13159676, 0.13134127, 0.12771635, 0.1293705 , 0.12849708,\n",
       "        0.12633982, 0.12660322, 0.12196641, 0.12488647, 0.12797337,\n",
       "        0.13170395, 0.12516828, 0.12780037, 0.12778816, 0.12242112,\n",
       "        0.12370391, 0.12919693, 0.1309845 , 0.12913055, 0.12820897,\n",
       "        0.12673516, 0.12453938, 0.12730765, 0.12144232, 0.12387981,\n",
       "        0.12480807]),\n",
       " 'std_score_time': array([0.01029736, 0.00299917, 0.00246721, 0.004501  , 0.00395113,\n",
       "        0.01207913, 0.00254686, 0.00645751, 0.00440828, 0.00258771,\n",
       "        0.00200599, 0.00482378, 0.00526104, 0.00434936, 0.00770764,\n",
       "        0.00342123, 0.00323212, 0.00388817, 0.00257863, 0.00208914,\n",
       "        0.00580299, 0.00326077, 0.00373025, 0.00274802, 0.00465197,\n",
       "        0.00056864, 0.00236265, 0.00328303, 0.0019286 , 0.00478022,\n",
       "        0.00405098, 0.00457705, 0.00276993, 0.00171528, 0.00137073,\n",
       "        0.00444296, 0.00416296, 0.00453363, 0.00406848, 0.00480447,\n",
       "        0.0062062 , 0.00833978, 0.00575094, 0.00201363, 0.00281907,\n",
       "        0.00361247, 0.00232657, 0.00395454, 0.00239112, 0.00158125,\n",
       "        0.00454849, 0.00448892, 0.00546642, 0.00413771, 0.0014964 ,\n",
       "        0.00829565, 0.00348433, 0.00459293, 0.00639019, 0.0043606 ,\n",
       "        0.00514265, 0.00440082, 0.00250712, 0.00164516, 0.00270645,\n",
       "        0.00407819, 0.00334125, 0.00380885, 0.00282849, 0.00305547,\n",
       "        0.00294666, 0.00436886, 0.00580137, 0.00312404, 0.00364627,\n",
       "        0.00464002, 0.00299661, 0.004662  , 0.00533924, 0.00166451,\n",
       "        0.00383732]),\n",
       " 'param_alpha': masked_array(data=[0, 0, 0, 0, 0, 0, 0, 0, 0, 0, 0, 0, 0, 0, 0, 0, 0, 0,\n",
       "                    0, 0, 0, 0, 0, 0, 0, 0, 0, 0.2, 0.2, 0.2, 0.2, 0.2,\n",
       "                    0.2, 0.2, 0.2, 0.2, 0.2, 0.2, 0.2, 0.2, 0.2, 0.2, 0.2,\n",
       "                    0.2, 0.2, 0.2, 0.2, 0.2, 0.2, 0.2, 0.2, 0.2, 0.2, 0.2,\n",
       "                    0.4, 0.4, 0.4, 0.4, 0.4, 0.4, 0.4, 0.4, 0.4, 0.4, 0.4,\n",
       "                    0.4, 0.4, 0.4, 0.4, 0.4, 0.4, 0.4, 0.4, 0.4, 0.4, 0.4,\n",
       "                    0.4, 0.4, 0.4, 0.4, 0.4],\n",
       "              mask=[False, False, False, False, False, False, False, False,\n",
       "                    False, False, False, False, False, False, False, False,\n",
       "                    False, False, False, False, False, False, False, False,\n",
       "                    False, False, False, False, False, False, False, False,\n",
       "                    False, False, False, False, False, False, False, False,\n",
       "                    False, False, False, False, False, False, False, False,\n",
       "                    False, False, False, False, False, False, False, False,\n",
       "                    False, False, False, False, False, False, False, False,\n",
       "                    False, False, False, False, False, False, False, False,\n",
       "                    False, False, False, False, False, False, False, False,\n",
       "                    False],\n",
       "        fill_value='?',\n",
       "             dtype=object),\n",
       " 'param_eta': masked_array(data=[0.25, 0.25, 0.25, 0.25, 0.25, 0.25, 0.25, 0.25, 0.25,\n",
       "                    0.3, 0.3, 0.3, 0.3, 0.3, 0.3, 0.3, 0.3, 0.3, 0.35,\n",
       "                    0.35, 0.35, 0.35, 0.35, 0.35, 0.35, 0.35, 0.35, 0.25,\n",
       "                    0.25, 0.25, 0.25, 0.25, 0.25, 0.25, 0.25, 0.25, 0.3,\n",
       "                    0.3, 0.3, 0.3, 0.3, 0.3, 0.3, 0.3, 0.3, 0.35, 0.35,\n",
       "                    0.35, 0.35, 0.35, 0.35, 0.35, 0.35, 0.35, 0.25, 0.25,\n",
       "                    0.25, 0.25, 0.25, 0.25, 0.25, 0.25, 0.25, 0.3, 0.3,\n",
       "                    0.3, 0.3, 0.3, 0.3, 0.3, 0.3, 0.3, 0.35, 0.35, 0.35,\n",
       "                    0.35, 0.35, 0.35, 0.35, 0.35, 0.35],\n",
       "              mask=[False, False, False, False, False, False, False, False,\n",
       "                    False, False, False, False, False, False, False, False,\n",
       "                    False, False, False, False, False, False, False, False,\n",
       "                    False, False, False, False, False, False, False, False,\n",
       "                    False, False, False, False, False, False, False, False,\n",
       "                    False, False, False, False, False, False, False, False,\n",
       "                    False, False, False, False, False, False, False, False,\n",
       "                    False, False, False, False, False, False, False, False,\n",
       "                    False, False, False, False, False, False, False, False,\n",
       "                    False, False, False, False, False, False, False, False,\n",
       "                    False],\n",
       "        fill_value='?',\n",
       "             dtype=object),\n",
       " 'param_gamma': masked_array(data=[1, 1, 1, 2, 2, 2, 3, 3, 3, 1, 1, 1, 2, 2, 2, 3, 3, 3,\n",
       "                    1, 1, 1, 2, 2, 2, 3, 3, 3, 1, 1, 1, 2, 2, 2, 3, 3, 3,\n",
       "                    1, 1, 1, 2, 2, 2, 3, 3, 3, 1, 1, 1, 2, 2, 2, 3, 3, 3,\n",
       "                    1, 1, 1, 2, 2, 2, 3, 3, 3, 1, 1, 1, 2, 2, 2, 3, 3, 3,\n",
       "                    1, 1, 1, 2, 2, 2, 3, 3, 3],\n",
       "              mask=[False, False, False, False, False, False, False, False,\n",
       "                    False, False, False, False, False, False, False, False,\n",
       "                    False, False, False, False, False, False, False, False,\n",
       "                    False, False, False, False, False, False, False, False,\n",
       "                    False, False, False, False, False, False, False, False,\n",
       "                    False, False, False, False, False, False, False, False,\n",
       "                    False, False, False, False, False, False, False, False,\n",
       "                    False, False, False, False, False, False, False, False,\n",
       "                    False, False, False, False, False, False, False, False,\n",
       "                    False, False, False, False, False, False, False, False,\n",
       "                    False],\n",
       "        fill_value='?',\n",
       "             dtype=object),\n",
       " 'param_max_depth': masked_array(data=[5, 6, 7, 5, 6, 7, 5, 6, 7, 5, 6, 7, 5, 6, 7, 5, 6, 7,\n",
       "                    5, 6, 7, 5, 6, 7, 5, 6, 7, 5, 6, 7, 5, 6, 7, 5, 6, 7,\n",
       "                    5, 6, 7, 5, 6, 7, 5, 6, 7, 5, 6, 7, 5, 6, 7, 5, 6, 7,\n",
       "                    5, 6, 7, 5, 6, 7, 5, 6, 7, 5, 6, 7, 5, 6, 7, 5, 6, 7,\n",
       "                    5, 6, 7, 5, 6, 7, 5, 6, 7],\n",
       "              mask=[False, False, False, False, False, False, False, False,\n",
       "                    False, False, False, False, False, False, False, False,\n",
       "                    False, False, False, False, False, False, False, False,\n",
       "                    False, False, False, False, False, False, False, False,\n",
       "                    False, False, False, False, False, False, False, False,\n",
       "                    False, False, False, False, False, False, False, False,\n",
       "                    False, False, False, False, False, False, False, False,\n",
       "                    False, False, False, False, False, False, False, False,\n",
       "                    False, False, False, False, False, False, False, False,\n",
       "                    False, False, False, False, False, False, False, False,\n",
       "                    False],\n",
       "        fill_value='?',\n",
       "             dtype=object),\n",
       " 'params': [{'alpha': 0, 'eta': 0.25, 'gamma': 1, 'max_depth': 5},\n",
       "  {'alpha': 0, 'eta': 0.25, 'gamma': 1, 'max_depth': 6},\n",
       "  {'alpha': 0, 'eta': 0.25, 'gamma': 1, 'max_depth': 7},\n",
       "  {'alpha': 0, 'eta': 0.25, 'gamma': 2, 'max_depth': 5},\n",
       "  {'alpha': 0, 'eta': 0.25, 'gamma': 2, 'max_depth': 6},\n",
       "  {'alpha': 0, 'eta': 0.25, 'gamma': 2, 'max_depth': 7},\n",
       "  {'alpha': 0, 'eta': 0.25, 'gamma': 3, 'max_depth': 5},\n",
       "  {'alpha': 0, 'eta': 0.25, 'gamma': 3, 'max_depth': 6},\n",
       "  {'alpha': 0, 'eta': 0.25, 'gamma': 3, 'max_depth': 7},\n",
       "  {'alpha': 0, 'eta': 0.3, 'gamma': 1, 'max_depth': 5},\n",
       "  {'alpha': 0, 'eta': 0.3, 'gamma': 1, 'max_depth': 6},\n",
       "  {'alpha': 0, 'eta': 0.3, 'gamma': 1, 'max_depth': 7},\n",
       "  {'alpha': 0, 'eta': 0.3, 'gamma': 2, 'max_depth': 5},\n",
       "  {'alpha': 0, 'eta': 0.3, 'gamma': 2, 'max_depth': 6},\n",
       "  {'alpha': 0, 'eta': 0.3, 'gamma': 2, 'max_depth': 7},\n",
       "  {'alpha': 0, 'eta': 0.3, 'gamma': 3, 'max_depth': 5},\n",
       "  {'alpha': 0, 'eta': 0.3, 'gamma': 3, 'max_depth': 6},\n",
       "  {'alpha': 0, 'eta': 0.3, 'gamma': 3, 'max_depth': 7},\n",
       "  {'alpha': 0, 'eta': 0.35, 'gamma': 1, 'max_depth': 5},\n",
       "  {'alpha': 0, 'eta': 0.35, 'gamma': 1, 'max_depth': 6},\n",
       "  {'alpha': 0, 'eta': 0.35, 'gamma': 1, 'max_depth': 7},\n",
       "  {'alpha': 0, 'eta': 0.35, 'gamma': 2, 'max_depth': 5},\n",
       "  {'alpha': 0, 'eta': 0.35, 'gamma': 2, 'max_depth': 6},\n",
       "  {'alpha': 0, 'eta': 0.35, 'gamma': 2, 'max_depth': 7},\n",
       "  {'alpha': 0, 'eta': 0.35, 'gamma': 3, 'max_depth': 5},\n",
       "  {'alpha': 0, 'eta': 0.35, 'gamma': 3, 'max_depth': 6},\n",
       "  {'alpha': 0, 'eta': 0.35, 'gamma': 3, 'max_depth': 7},\n",
       "  {'alpha': 0.2, 'eta': 0.25, 'gamma': 1, 'max_depth': 5},\n",
       "  {'alpha': 0.2, 'eta': 0.25, 'gamma': 1, 'max_depth': 6},\n",
       "  {'alpha': 0.2, 'eta': 0.25, 'gamma': 1, 'max_depth': 7},\n",
       "  {'alpha': 0.2, 'eta': 0.25, 'gamma': 2, 'max_depth': 5},\n",
       "  {'alpha': 0.2, 'eta': 0.25, 'gamma': 2, 'max_depth': 6},\n",
       "  {'alpha': 0.2, 'eta': 0.25, 'gamma': 2, 'max_depth': 7},\n",
       "  {'alpha': 0.2, 'eta': 0.25, 'gamma': 3, 'max_depth': 5},\n",
       "  {'alpha': 0.2, 'eta': 0.25, 'gamma': 3, 'max_depth': 6},\n",
       "  {'alpha': 0.2, 'eta': 0.25, 'gamma': 3, 'max_depth': 7},\n",
       "  {'alpha': 0.2, 'eta': 0.3, 'gamma': 1, 'max_depth': 5},\n",
       "  {'alpha': 0.2, 'eta': 0.3, 'gamma': 1, 'max_depth': 6},\n",
       "  {'alpha': 0.2, 'eta': 0.3, 'gamma': 1, 'max_depth': 7},\n",
       "  {'alpha': 0.2, 'eta': 0.3, 'gamma': 2, 'max_depth': 5},\n",
       "  {'alpha': 0.2, 'eta': 0.3, 'gamma': 2, 'max_depth': 6},\n",
       "  {'alpha': 0.2, 'eta': 0.3, 'gamma': 2, 'max_depth': 7},\n",
       "  {'alpha': 0.2, 'eta': 0.3, 'gamma': 3, 'max_depth': 5},\n",
       "  {'alpha': 0.2, 'eta': 0.3, 'gamma': 3, 'max_depth': 6},\n",
       "  {'alpha': 0.2, 'eta': 0.3, 'gamma': 3, 'max_depth': 7},\n",
       "  {'alpha': 0.2, 'eta': 0.35, 'gamma': 1, 'max_depth': 5},\n",
       "  {'alpha': 0.2, 'eta': 0.35, 'gamma': 1, 'max_depth': 6},\n",
       "  {'alpha': 0.2, 'eta': 0.35, 'gamma': 1, 'max_depth': 7},\n",
       "  {'alpha': 0.2, 'eta': 0.35, 'gamma': 2, 'max_depth': 5},\n",
       "  {'alpha': 0.2, 'eta': 0.35, 'gamma': 2, 'max_depth': 6},\n",
       "  {'alpha': 0.2, 'eta': 0.35, 'gamma': 2, 'max_depth': 7},\n",
       "  {'alpha': 0.2, 'eta': 0.35, 'gamma': 3, 'max_depth': 5},\n",
       "  {'alpha': 0.2, 'eta': 0.35, 'gamma': 3, 'max_depth': 6},\n",
       "  {'alpha': 0.2, 'eta': 0.35, 'gamma': 3, 'max_depth': 7},\n",
       "  {'alpha': 0.4, 'eta': 0.25, 'gamma': 1, 'max_depth': 5},\n",
       "  {'alpha': 0.4, 'eta': 0.25, 'gamma': 1, 'max_depth': 6},\n",
       "  {'alpha': 0.4, 'eta': 0.25, 'gamma': 1, 'max_depth': 7},\n",
       "  {'alpha': 0.4, 'eta': 0.25, 'gamma': 2, 'max_depth': 5},\n",
       "  {'alpha': 0.4, 'eta': 0.25, 'gamma': 2, 'max_depth': 6},\n",
       "  {'alpha': 0.4, 'eta': 0.25, 'gamma': 2, 'max_depth': 7},\n",
       "  {'alpha': 0.4, 'eta': 0.25, 'gamma': 3, 'max_depth': 5},\n",
       "  {'alpha': 0.4, 'eta': 0.25, 'gamma': 3, 'max_depth': 6},\n",
       "  {'alpha': 0.4, 'eta': 0.25, 'gamma': 3, 'max_depth': 7},\n",
       "  {'alpha': 0.4, 'eta': 0.3, 'gamma': 1, 'max_depth': 5},\n",
       "  {'alpha': 0.4, 'eta': 0.3, 'gamma': 1, 'max_depth': 6},\n",
       "  {'alpha': 0.4, 'eta': 0.3, 'gamma': 1, 'max_depth': 7},\n",
       "  {'alpha': 0.4, 'eta': 0.3, 'gamma': 2, 'max_depth': 5},\n",
       "  {'alpha': 0.4, 'eta': 0.3, 'gamma': 2, 'max_depth': 6},\n",
       "  {'alpha': 0.4, 'eta': 0.3, 'gamma': 2, 'max_depth': 7},\n",
       "  {'alpha': 0.4, 'eta': 0.3, 'gamma': 3, 'max_depth': 5},\n",
       "  {'alpha': 0.4, 'eta': 0.3, 'gamma': 3, 'max_depth': 6},\n",
       "  {'alpha': 0.4, 'eta': 0.3, 'gamma': 3, 'max_depth': 7},\n",
       "  {'alpha': 0.4, 'eta': 0.35, 'gamma': 1, 'max_depth': 5},\n",
       "  {'alpha': 0.4, 'eta': 0.35, 'gamma': 1, 'max_depth': 6},\n",
       "  {'alpha': 0.4, 'eta': 0.35, 'gamma': 1, 'max_depth': 7},\n",
       "  {'alpha': 0.4, 'eta': 0.35, 'gamma': 2, 'max_depth': 5},\n",
       "  {'alpha': 0.4, 'eta': 0.35, 'gamma': 2, 'max_depth': 6},\n",
       "  {'alpha': 0.4, 'eta': 0.35, 'gamma': 2, 'max_depth': 7},\n",
       "  {'alpha': 0.4, 'eta': 0.35, 'gamma': 3, 'max_depth': 5},\n",
       "  {'alpha': 0.4, 'eta': 0.35, 'gamma': 3, 'max_depth': 6},\n",
       "  {'alpha': 0.4, 'eta': 0.35, 'gamma': 3, 'max_depth': 7}],\n",
       " 'split0_test_score': array([-0.43060393, -0.42966268, -0.42927492, -0.4308468 , -0.42981676,\n",
       "        -0.42835096, -0.43195496, -0.42948548, -0.42997052, -0.42922129,\n",
       "        -0.42978251, -0.43059407, -0.43000594, -0.42908973, -0.42995862,\n",
       "        -0.43019913, -0.4308249 , -0.42985664, -0.43032299, -0.43044381,\n",
       "        -0.43154988, -0.43125134, -0.43084473, -0.43068321, -0.43158101,\n",
       "        -0.43240485, -0.43046976, -0.43001947, -0.42800195, -0.43017999,\n",
       "        -0.42986961, -0.42857888, -0.42819874, -0.43140656, -0.43052755,\n",
       "        -0.42942971, -0.42959385, -0.42990515, -0.4297541 , -0.42895379,\n",
       "        -0.42954288, -0.42948953, -0.431524  , -0.43244941, -0.43025905,\n",
       "        -0.42978181, -0.43074112, -0.43288127, -0.42971354, -0.43075314,\n",
       "        -0.43034109, -0.4308153 , -0.43188389, -0.43059789, -0.43050162,\n",
       "        -0.42840674, -0.42877497, -0.42991579, -0.42978023, -0.42893244,\n",
       "        -0.43152643, -0.42980125, -0.42940009, -0.4296322 , -0.4296953 ,\n",
       "        -0.42956934, -0.43146461, -0.42983484, -0.42882152, -0.43096234,\n",
       "        -0.43075593, -0.43012984, -0.42923732, -0.43067944, -0.43144119,\n",
       "        -0.43039115, -0.43067646, -0.43017534, -0.43195941, -0.43168446,\n",
       "        -0.43158381]),\n",
       " 'split1_test_score': array([-0.43113994, -0.43034788, -0.43105289, -0.43222494, -0.43053509,\n",
       "        -0.42980903, -0.4336937 , -0.43062363, -0.43070718, -0.43135719,\n",
       "        -0.43237045, -0.43204165, -0.43232942, -0.43138108, -0.43062243,\n",
       "        -0.43271721, -0.4326609 , -0.43123874, -0.43079201, -0.43217156,\n",
       "        -0.43362765, -0.43202731, -0.43191328, -0.43173548, -0.4343716 ,\n",
       "        -0.43327393, -0.43152903, -0.43150138, -0.43034418, -0.4309377 ,\n",
       "        -0.43108753, -0.43004746, -0.43020329, -0.43203076, -0.43045185,\n",
       "        -0.43269346, -0.43086076, -0.43205119, -0.43209888, -0.43294422,\n",
       "        -0.43165534, -0.43103721, -0.43339109, -0.4337331 , -0.43248408,\n",
       "        -0.43089583, -0.43188816, -0.43398344, -0.43171203, -0.43168339,\n",
       "        -0.4315791 , -0.43385757, -0.43585339, -0.43197956, -0.43114343,\n",
       "        -0.42987623, -0.43046993, -0.4313307 , -0.43002801, -0.43004342,\n",
       "        -0.43232346, -0.43101789, -0.43128587, -0.43166739, -0.43066549,\n",
       "        -0.43185755, -0.43151844, -0.4308799 , -0.43006577, -0.43362457,\n",
       "        -0.43145456, -0.43191281, -0.43128387, -0.43158636, -0.43325073,\n",
       "        -0.43164811, -0.43103811, -0.43238984, -0.43239195, -0.43229184,\n",
       "        -0.43186875]),\n",
       " 'split2_test_score': array([-0.42974731, -0.42991855, -0.42972937, -0.4300759 , -0.42939068,\n",
       "        -0.42909863, -0.42974132, -0.43042894, -0.42966567, -0.42982365,\n",
       "        -0.42977932, -0.43133256, -0.43031596, -0.4289622 , -0.42974361,\n",
       "        -0.43068172, -0.4300106 , -0.43027426, -0.43131765, -0.43234749,\n",
       "        -0.43297987, -0.43074817, -0.43132702, -0.43150836, -0.43127121,\n",
       "        -0.43178234, -0.43112213, -0.42967102, -0.42924252, -0.42971745,\n",
       "        -0.42960164, -0.42899961, -0.4294521 , -0.42987073, -0.429168  ,\n",
       "        -0.42925036, -0.4299243 , -0.42934406, -0.43076165, -0.43072438,\n",
       "        -0.42979731, -0.43000215, -0.4312356 , -0.43031721, -0.43038558,\n",
       "        -0.43086081, -0.43166397, -0.43370258, -0.43002773, -0.4299973 ,\n",
       "        -0.43177381, -0.43183861, -0.43087257, -0.43109559, -0.42955996,\n",
       "        -0.42984139, -0.43037177, -0.42997123, -0.4292222 , -0.42870852,\n",
       "        -0.42986843, -0.43045016, -0.42958165, -0.42992538, -0.42993142,\n",
       "        -0.43071477, -0.43011079, -0.42973887, -0.42977823, -0.43156507,\n",
       "        -0.43016287, -0.42999156, -0.42979989, -0.42986217, -0.4334428 ,\n",
       "        -0.42996505, -0.43009176, -0.43033494, -0.43104482, -0.43128875,\n",
       "        -0.43141167]),\n",
       " 'split3_test_score': array([-0.42983933, -0.42904367, -0.43035131, -0.43028906, -0.42969204,\n",
       "        -0.42844522, -0.43088503, -0.43001759, -0.42921582, -0.42971769,\n",
       "        -0.42958618, -0.43095667, -0.4291533 , -0.42899755, -0.43006481,\n",
       "        -0.43216781, -0.43056221, -0.43170233, -0.43084279, -0.43064436,\n",
       "        -0.43232861, -0.43022237, -0.43068415, -0.43098181, -0.43393086,\n",
       "        -0.43035875, -0.43037969, -0.43046466, -0.4290438 , -0.42982997,\n",
       "        -0.43003047, -0.42905032, -0.42889999, -0.43129967, -0.42950198,\n",
       "        -0.42899745, -0.43016068, -0.43015661, -0.43078159, -0.43039664,\n",
       "        -0.42961657, -0.42993706, -0.43050039, -0.43139148, -0.42982011,\n",
       "        -0.43104739, -0.43224906, -0.43307404, -0.43162517, -0.43147306,\n",
       "        -0.43139397, -0.43283632, -0.43237866, -0.43048238, -0.43069742,\n",
       "        -0.42947618, -0.42962986, -0.43081959, -0.42903936, -0.42904823,\n",
       "        -0.43206403, -0.42988583, -0.42903201, -0.43003662, -0.42948948,\n",
       "        -0.4312723 , -0.42968114, -0.42959997, -0.43025352, -0.4321293 ,\n",
       "        -0.42962121, -0.42992371, -0.42980976, -0.43051802, -0.4330552 ,\n",
       "        -0.43049911, -0.4295892 , -0.43107592, -0.43191186, -0.43041447,\n",
       "        -0.43101475]),\n",
       " 'split4_test_score': array([-0.43050206, -0.43049721, -0.43035586, -0.43083936, -0.43069001,\n",
       "        -0.42996973, -0.43132515, -0.43143493, -0.43064302, -0.4299451 ,\n",
       "        -0.43067379, -0.43233939, -0.43084118, -0.43095519, -0.43053492,\n",
       "        -0.43152258, -0.43172379, -0.4306657 , -0.43204447, -0.43270621,\n",
       "        -0.43392695, -0.43150991, -0.43282963, -0.43236043, -0.4328749 ,\n",
       "        -0.43168727, -0.43086468, -0.43058416, -0.43065408, -0.43096355,\n",
       "        -0.43065809, -0.42981786, -0.42934763, -0.43187518, -0.43156824,\n",
       "        -0.43008791, -0.43051369, -0.43081054, -0.43126258, -0.43073651,\n",
       "        -0.43039086, -0.42971671, -0.43192925, -0.43111803, -0.43049473,\n",
       "        -0.43087593, -0.43239283, -0.43378651, -0.43098271, -0.43188656,\n",
       "        -0.43203508, -0.43376247, -0.4324256 , -0.43110916, -0.43099038,\n",
       "        -0.4296208 , -0.42996956, -0.43150732, -0.42952375, -0.43072615,\n",
       "        -0.43249957, -0.43035344, -0.42991392, -0.43143659, -0.43043675,\n",
       "        -0.43214689, -0.43109869, -0.43044272, -0.43124433, -0.43366763,\n",
       "        -0.43084575, -0.43157203, -0.43102861, -0.43169266, -0.43392654,\n",
       "        -0.43077074, -0.43097128, -0.43129683, -0.43197878, -0.43215965,\n",
       "        -0.43236444]),\n",
       " 'mean_test_score': array([-0.43036651, -0.429894  , -0.43015287, -0.43085521, -0.43002492,\n",
       "        -0.42913472, -0.43152003, -0.43039811, -0.43004045, -0.43001298,\n",
       "        -0.43043845, -0.43145287, -0.43052916, -0.42987715, -0.43018488,\n",
       "        -0.43145769, -0.43115648, -0.43074753, -0.43106398, -0.43166268,\n",
       "        -0.43288259, -0.43115182, -0.43151976, -0.43145386, -0.43280592,\n",
       "        -0.43190143, -0.43087306, -0.43044814, -0.42945731, -0.43032573,\n",
       "        -0.43024947, -0.42929883, -0.42922035, -0.43129658, -0.43024352,\n",
       "        -0.43009178, -0.43021066, -0.43045351, -0.43093176, -0.43075111,\n",
       "        -0.43020059, -0.43003653, -0.43171607, -0.43180185, -0.43068871,\n",
       "        -0.43069235, -0.43178703, -0.43348557, -0.43081224, -0.43115869,\n",
       "        -0.43142461, -0.43262206, -0.43268282, -0.43105292, -0.43057856,\n",
       "        -0.42944427, -0.42984322, -0.43070893, -0.42951871, -0.42949175,\n",
       "        -0.43165638, -0.43030171, -0.42984271, -0.43053964, -0.43004369,\n",
       "        -0.43111217, -0.43077473, -0.43009926, -0.43003268, -0.43238978,\n",
       "        -0.43056806, -0.43070599, -0.43023189, -0.43086773, -0.43302329,\n",
       "        -0.43065483, -0.43047336, -0.43105457, -0.43185736, -0.43156783,\n",
       "        -0.43164868]),\n",
       " 'std_test_score': array([0.00051658, 0.00051905, 0.00060676, 0.00074891, 0.0005018 ,\n",
       "        0.00066977, 0.0013053 , 0.00064877, 0.00057149, 0.00071573,\n",
       "        0.00103721, 0.00065281, 0.00105361, 0.00106347, 0.00033891,\n",
       "        0.00092531, 0.00093394, 0.00065989, 0.0005827 , 0.00093161,\n",
       "        0.00086467, 0.00062152, 0.00078252, 0.00058667, 0.00123104,\n",
       "        0.00095678, 0.0004239 , 0.00061899, 0.00095436, 0.00053261,\n",
       "        0.00054429, 0.00054762, 0.00066067, 0.00076406, 0.00084683,\n",
       "        0.00135001, 0.00044258, 0.00092734, 0.00076288, 0.00127802,\n",
       "        0.00078598, 0.00053178, 0.00095883, 0.00118231, 0.00092649,\n",
       "        0.00046013, 0.00058306, 0.00042897, 0.00081512, 0.0006953 ,\n",
       "        0.00058197, 0.00116199, 0.00168086, 0.00052843, 0.0005561 ,\n",
       "        0.00053906, 0.00061234, 0.00066476, 0.0003593 , 0.00076826,\n",
       "        0.00095245, 0.00043842, 0.00077577, 0.00084026, 0.00044323,\n",
       "        0.00091544, 0.00074441, 0.00048507, 0.00078098, 0.00109025,\n",
       "        0.00062594, 0.00085566, 0.00078682, 0.00068787, 0.00084234,\n",
       "        0.00056028, 0.00055416, 0.00079158, 0.00044139, 0.00067767,\n",
       "        0.00045232]),\n",
       " 'rank_test_score': array([29, 11, 20, 48, 13,  1, 65, 30, 16, 12, 31, 61, 35, 10, 21, 63, 57,\n",
       "        44, 54, 69, 79, 56, 64, 62, 78, 74, 50, 32,  5, 28, 26,  3,  2, 59,\n",
       "        25, 18, 23, 33, 51, 45, 22, 15, 70, 72, 40, 41, 71, 81, 47, 58, 60,\n",
       "        76, 77, 52, 38,  4,  9, 43,  7,  6, 68, 27,  8, 36, 17, 55, 46, 19,\n",
       "        14, 75, 37, 42, 24, 49, 80, 39, 34, 53, 73, 66, 67])}"
      ]
     },
     "execution_count": 65,
     "metadata": {},
     "output_type": "execute_result"
    }
   ],
   "source": [
    "clf.cv_results_"
   ]
  },
  {
   "cell_type": "code",
   "execution_count": 66,
   "metadata": {},
   "outputs": [
    {
     "data": {
      "text/plain": [
       "{'alpha': 0, 'eta': 0.25, 'gamma': 2, 'max_depth': 7}"
      ]
     },
     "execution_count": 66,
     "metadata": {},
     "output_type": "execute_result"
    }
   ],
   "source": [
    "clf.best_params_"
   ]
  },
  {
   "cell_type": "code",
   "execution_count": 60,
   "metadata": {},
   "outputs": [
    {
     "name": "stdout",
     "output_type": "stream",
     "text": [
      "1120.3481619030024\n",
      "1189.54849226113\n"
     ]
    }
   ],
   "source": [
    "#XGBoost with select features\n",
    "\n",
    "xgb = XGBRegressor(seed=0, max_depth = 6\n",
    "                  , gamma = 2\n",
    "                   , alpha = 0.2\n",
    "                   , min_child_weight = 0\n",
    "                   , eta=0.3\n",
    "                  )\n",
    "xgb.fit(X_fs_train, y_fs_train)\n",
    "xgb_fs_result1 = xgb.predict(X_fs_train)\n",
    "xgb_fs_result2 = xgb.predict(X_fs_test)\n",
    "\n",
    "\n",
    "print(mean_absolute_error(np.expm1(y_fs_train), np.expm1(xgb_fs_result1)))\n",
    "print(mean_absolute_error(np.expm1(y_fs_test), np.expm1(xgb_fs_result2)))"
   ]
  },
  {
   "cell_type": "code",
   "execution_count": 15,
   "metadata": {},
   "outputs": [
    {
     "name": "stdout",
     "output_type": "stream",
     "text": [
      "1099.129570997514\n",
      "1185.0239042456149\n"
     ]
    }
   ],
   "source": [
    "#XGBoost with select features\n",
    "\n",
    "xgb = XGBRegressor(seed=0, max_depth = 7\n",
    "                  , gamma = 2\n",
    "                   , alpha = 0                   \n",
    "                   , eta=0.25\n",
    "                  )\n",
    "xgb.fit(X_fs_train, y_fs_train)\n",
    "xgb_fs_result1 = xgb.predict(X_fs_train)\n",
    "xgb_fs_result2 = xgb.predict(X_fs_test)\n",
    "\n",
    "\n",
    "print(mean_absolute_error(np.expm1(y_fs_train), np.expm1(xgb_fs_result1)))\n",
    "print(mean_absolute_error(np.expm1(y_fs_test), np.expm1(xgb_fs_result2)))"
   ]
  },
  {
   "cell_type": "code",
   "execution_count": 12,
   "metadata": {},
   "outputs": [
    {
     "data": {
      "text/plain": [
       "count    150654.000000\n",
       "mean       3036.495648\n",
       "std        2902.463342\n",
       "min           0.670000\n",
       "25%        1201.552500\n",
       "50%        2115.815000\n",
       "75%        3865.802500\n",
       "max      121012.250000\n",
       "Name: loss, dtype: float64"
      ]
     },
     "execution_count": 12,
     "metadata": {},
     "output_type": "execute_result"
    }
   ],
   "source": [
    "np.expm1(y_fs_train).describe()"
   ]
  },
  {
   "cell_type": "code",
   "execution_count": 13,
   "metadata": {},
   "outputs": [
    {
     "data": {
      "text/plain": [
       "count    37664.000000\n",
       "mean      3040.705791\n",
       "std       2910.604589\n",
       "min          8.400000\n",
       "25%       1215.612500\n",
       "50%       2114.150000\n",
       "75%       3857.495000\n",
       "max      79623.520000\n",
       "Name: loss, dtype: float64"
      ]
     },
     "execution_count": 13,
     "metadata": {},
     "output_type": "execute_result"
    }
   ],
   "source": [
    "np.expm1(y_fs_test).describe()"
   ]
  },
  {
   "cell_type": "code",
   "execution_count": 28,
   "metadata": {},
   "outputs": [
    {
     "data": {
      "text/plain": [
       "count    150654.000000\n",
       "mean        372.341732\n",
       "std        1775.755587\n",
       "min      -39026.533750\n",
       "25%        -526.625206\n",
       "50%          17.059197\n",
       "75%         893.831984\n",
       "max       65988.949219\n",
       "Name: loss, dtype: float64"
      ]
     },
     "execution_count": 28,
     "metadata": {},
     "output_type": "execute_result"
    }
   ],
   "source": [
    "(np.expm1(y_fs_train) - np.expm1(xgb_fs_result1)).describe()"
   ]
  },
  {
   "cell_type": "code",
   "execution_count": 27,
   "metadata": {},
   "outputs": [
    {
     "data": {
      "text/plain": [
       "id\n",
       "455847      696.88\n",
       "326082     1561.54\n",
       "122105     7438.60\n",
       "469398     3385.69\n",
       "32310      2982.58\n",
       "            ...   \n",
       "474874     2447.34\n",
       "552354    11608.00\n",
       "368601     2011.52\n",
       "542029     1654.42\n",
       "136774     6380.34\n",
       "Name: loss, Length: 150654, dtype: float64"
      ]
     },
     "execution_count": 27,
     "metadata": {},
     "output_type": "execute_result"
    }
   ],
   "source": [
    "np.expm1(y_fs_train)"
   ]
  },
  {
   "cell_type": "code",
   "execution_count": 30,
   "metadata": {
    "scrolled": true
   },
   "outputs": [
    {
     "data": {
      "text/plain": [
       "(array([1.0000e+00, 0.0000e+00, 0.0000e+00, 0.0000e+00, 0.0000e+00,\n",
       "        0.0000e+00, 0.0000e+00, 0.0000e+00, 0.0000e+00, 0.0000e+00,\n",
       "        1.0000e+00, 0.0000e+00, 0.0000e+00, 0.0000e+00, 0.0000e+00,\n",
       "        0.0000e+00, 0.0000e+00, 0.0000e+00, 0.0000e+00, 0.0000e+00,\n",
       "        0.0000e+00, 0.0000e+00, 0.0000e+00, 0.0000e+00, 0.0000e+00,\n",
       "        1.0000e+00, 1.0000e+00, 2.0000e+00, 8.0000e+00, 1.6000e+01,\n",
       "        4.0000e+01, 8.3000e+01, 2.0200e+02, 6.5100e+02, 2.1000e+03,\n",
       "        9.1660e+03, 5.0062e+04, 5.0254e+04, 1.9449e+04, 8.8900e+03,\n",
       "        4.2920e+03, 2.2350e+03, 1.1920e+03, 7.0500e+02, 4.4100e+02,\n",
       "        2.8500e+02, 1.9000e+02, 1.0900e+02, 8.7000e+01, 4.1000e+01,\n",
       "        3.6000e+01, 3.0000e+01, 1.9000e+01, 1.8000e+01, 1.7000e+01,\n",
       "        5.0000e+00, 1.0000e+00, 4.0000e+00, 2.0000e+00, 1.0000e+00,\n",
       "        4.0000e+00, 3.0000e+00, 2.0000e+00, 1.0000e+00, 0.0000e+00,\n",
       "        0.0000e+00, 2.0000e+00, 0.0000e+00, 1.0000e+00, 0.0000e+00,\n",
       "        0.0000e+00, 1.0000e+00, 1.0000e+00, 0.0000e+00, 0.0000e+00,\n",
       "        0.0000e+00, 0.0000e+00, 0.0000e+00, 0.0000e+00, 0.0000e+00,\n",
       "        0.0000e+00, 0.0000e+00, 0.0000e+00, 0.0000e+00, 0.0000e+00,\n",
       "        0.0000e+00, 0.0000e+00, 0.0000e+00, 0.0000e+00, 0.0000e+00,\n",
       "        1.0000e+00, 0.0000e+00, 0.0000e+00, 0.0000e+00, 0.0000e+00,\n",
       "        0.0000e+00, 0.0000e+00, 0.0000e+00, 0.0000e+00, 1.0000e+00]),\n",
       " array([-39026.53375   , -37976.37892031, -36926.22409062, -35876.06926094,\n",
       "        -34825.91443125, -33775.75960156, -32725.60477187, -31675.44994219,\n",
       "        -30625.2951125 , -29575.14028281, -28524.98545312, -27474.83062344,\n",
       "        -26424.67579375, -25374.52096406, -24324.36613437, -23274.21130469,\n",
       "        -22224.056475  , -21173.90164531, -20123.74681562, -19073.59198594,\n",
       "        -18023.43715625, -16973.28232656, -15923.12749687, -14872.97266719,\n",
       "        -13822.8178375 , -12772.66300781, -11722.50817813, -10672.35334844,\n",
       "         -9622.19851875,  -8572.04368906,  -7521.88885938,  -6471.73402969,\n",
       "         -5421.5792    ,  -4371.42437031,  -3321.26954063,  -2271.11471094,\n",
       "         -1220.95988125,   -170.80505156,    879.34977812,   1929.50460781,\n",
       "          2979.6594375 ,   4029.81426719,   5079.96909687,   6130.12392656,\n",
       "          7180.27875625,   8230.43358594,   9280.58841562,  10330.74324531,\n",
       "         11380.898075  ,  12431.05290469,  13481.20773437,  14531.36256406,\n",
       "         15581.51739375,  16631.67222344,  17681.82705312,  18731.98188281,\n",
       "         19782.1367125 ,  20832.29154219,  21882.44637187,  22932.60120156,\n",
       "         23982.75603125,  25032.91086094,  26083.06569062,  27133.22052031,\n",
       "         28183.37535   ,  29233.53017969,  30283.68500937,  31333.83983906,\n",
       "         32383.99466875,  33434.14949844,  34484.30432812,  35534.45915781,\n",
       "         36584.6139875 ,  37634.76881719,  38684.92364687,  39735.07847656,\n",
       "         40785.23330625,  41835.38813594,  42885.54296562,  43935.69779531,\n",
       "         44985.852625  ,  46036.00745469,  47086.16228437,  48136.31711406,\n",
       "         49186.47194375,  50236.62677344,  51286.78160312,  52336.93643281,\n",
       "         53387.0912625 ,  54437.24609219,  55487.40092187,  56537.55575156,\n",
       "         57587.71058125,  58637.86541094,  59688.02024062,  60738.17507031,\n",
       "         61788.3299    ,  62838.48472969,  63888.63955937,  64938.79438906,\n",
       "         65988.94921875]),\n",
       " <a list of 100 Patch objects>)"
      ]
     },
     "execution_count": 30,
     "metadata": {},
     "output_type": "execute_result"
    },
    {
     "data": {
      "image/png": "[encoded data removed]",
      "text/plain": [
       "<Figure size 432x288 with 1 Axes>"
      ]
     },
     "metadata": {
      "needs_background": "light"
     },
     "output_type": "display_data"
    }
   ],
   "source": [
    "plt.hist(np.expm1(y_fs_train) - np.expm1(xgb_fs_result1), bins=100)"
   ]
  },
  {
   "cell_type": "code",
   "execution_count": 31,
   "metadata": {
    "scrolled": true
   },
   "outputs": [
    {
     "data": {
      "text/plain": [
       "(array([3.8130e+04, 4.6305e+04, 2.5161e+04, 1.4848e+04, 9.1380e+03,\n",
       "        5.8820e+03, 3.5870e+03, 2.4090e+03, 1.5890e+03, 1.0970e+03,\n",
       "        7.2500e+02, 4.9000e+02, 3.5500e+02, 2.5900e+02, 1.5800e+02,\n",
       "        1.2800e+02, 8.9000e+01, 7.7000e+01, 5.0000e+01, 3.6000e+01,\n",
       "        3.3000e+01, 2.8000e+01, 1.5000e+01, 9.0000e+00, 8.0000e+00,\n",
       "        9.0000e+00, 5.0000e+00, 3.0000e+00, 5.0000e+00, 2.0000e+00,\n",
       "        4.0000e+00, 1.0000e+00, 1.0000e+00, 1.0000e+00, 2.0000e+00,\n",
       "        0.0000e+00, 4.0000e+00, 0.0000e+00, 0.0000e+00, 0.0000e+00,\n",
       "        2.0000e+00, 0.0000e+00, 1.0000e+00, 0.0000e+00, 1.0000e+00,\n",
       "        0.0000e+00, 0.0000e+00, 1.0000e+00, 0.0000e+00, 1.0000e+00,\n",
       "        0.0000e+00, 0.0000e+00, 0.0000e+00, 0.0000e+00, 0.0000e+00,\n",
       "        2.0000e+00, 0.0000e+00, 0.0000e+00, 0.0000e+00, 0.0000e+00,\n",
       "        0.0000e+00, 0.0000e+00, 0.0000e+00, 0.0000e+00, 0.0000e+00,\n",
       "        0.0000e+00, 0.0000e+00, 0.0000e+00, 0.0000e+00, 0.0000e+00,\n",
       "        0.0000e+00, 1.0000e+00, 0.0000e+00, 0.0000e+00, 0.0000e+00,\n",
       "        0.0000e+00, 0.0000e+00, 0.0000e+00, 0.0000e+00, 0.0000e+00,\n",
       "        0.0000e+00, 0.0000e+00, 0.0000e+00, 0.0000e+00, 0.0000e+00,\n",
       "        0.0000e+00, 0.0000e+00, 0.0000e+00, 1.0000e+00, 0.0000e+00,\n",
       "        0.0000e+00, 0.0000e+00, 0.0000e+00, 0.0000e+00, 0.0000e+00,\n",
       "        0.0000e+00, 0.0000e+00, 0.0000e+00, 0.0000e+00, 1.0000e+00]),\n",
       " array([6.70000000e-01, 1.21078580e+03, 2.42090160e+03, 3.63101740e+03,\n",
       "        4.84113320e+03, 6.05124900e+03, 7.26136480e+03, 8.47148060e+03,\n",
       "        9.68159640e+03, 1.08917122e+04, 1.21018280e+04, 1.33119438e+04,\n",
       "        1.45220596e+04, 1.57321754e+04, 1.69422912e+04, 1.81524070e+04,\n",
       "        1.93625228e+04, 2.05726386e+04, 2.17827544e+04, 2.29928702e+04,\n",
       "        2.42029860e+04, 2.54131018e+04, 2.66232176e+04, 2.78333334e+04,\n",
       "        2.90434492e+04, 3.02535650e+04, 3.14636808e+04, 3.26737966e+04,\n",
       "        3.38839124e+04, 3.50940282e+04, 3.63041440e+04, 3.75142598e+04,\n",
       "        3.87243756e+04, 3.99344914e+04, 4.11446072e+04, 4.23547230e+04,\n",
       "        4.35648388e+04, 4.47749546e+04, 4.59850704e+04, 4.71951862e+04,\n",
       "        4.84053020e+04, 4.96154178e+04, 5.08255336e+04, 5.20356494e+04,\n",
       "        5.32457652e+04, 5.44558810e+04, 5.56659968e+04, 5.68761126e+04,\n",
       "        5.80862284e+04, 5.92963442e+04, 6.05064600e+04, 6.17165758e+04,\n",
       "        6.29266916e+04, 6.41368074e+04, 6.53469232e+04, 6.65570390e+04,\n",
       "        6.77671548e+04, 6.89772706e+04, 7.01873864e+04, 7.13975022e+04,\n",
       "        7.26076180e+04, 7.38177338e+04, 7.50278496e+04, 7.62379654e+04,\n",
       "        7.74480812e+04, 7.86581970e+04, 7.98683128e+04, 8.10784286e+04,\n",
       "        8.22885444e+04, 8.34986602e+04, 8.47087760e+04, 8.59188918e+04,\n",
       "        8.71290076e+04, 8.83391234e+04, 8.95492392e+04, 9.07593550e+04,\n",
       "        9.19694708e+04, 9.31795866e+04, 9.43897024e+04, 9.55998182e+04,\n",
       "        9.68099340e+04, 9.80200498e+04, 9.92301656e+04, 1.00440281e+05,\n",
       "        1.01650397e+05, 1.02860513e+05, 1.04070629e+05, 1.05280745e+05,\n",
       "        1.06490860e+05, 1.07700976e+05, 1.08911092e+05, 1.10121208e+05,\n",
       "        1.11331324e+05, 1.12541439e+05, 1.13751555e+05, 1.14961671e+05,\n",
       "        1.16171787e+05, 1.17381903e+05, 1.18592018e+05, 1.19802134e+05,\n",
       "        1.21012250e+05]),\n",
       " <a list of 100 Patch objects>)"
      ]
     },
     "execution_count": 31,
     "metadata": {},
     "output_type": "execute_result"
    },
    {
     "data": {
      "image/png": "[encoded data removed]",
      "text/plain": [
       "<Figure size 432x288 with 1 Axes>"
      ]
     },
     "metadata": {
      "needs_background": "light"
     },
     "output_type": "display_data"
    }
   ],
   "source": [
    "plt.hist(np.expm1(y_fs_train), bins=100)"
   ]
  },
  {
   "cell_type": "code",
   "execution_count": null,
   "metadata": {},
   "outputs": [],
   "source": []
  }
 ],
 "metadata": {
  "kernelspec": {
   "display_name": "Python 3",
   "language": "python",
   "name": "python3"
  },
  "language_info": {
   "codemirror_mode": {
    "name": "ipython",
    "version": 3
   },
   "file_extension": ".py",
   "mimetype": "text/x-python",
   "name": "python",
   "nbconvert_exporter": "python",
   "pygments_lexer": "ipython3",
   "version": "3.8.3"
  }
 },
 "nbformat": 4,
 "nbformat_minor": 4
}
